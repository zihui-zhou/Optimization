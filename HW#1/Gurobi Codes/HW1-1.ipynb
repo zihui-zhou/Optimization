{
 "cells": [
  {
   "cell_type": "code",
   "execution_count": null,
   "metadata": {},
   "outputs": [],
   "source": [
    "from gurobipy import *\n",
    "\n",
    "try:\n",
    "\n",
    "    # Create a new model\n",
    "    m = Model(\"HW1\")\n",
    "\n",
    "    # Create variables (lowerbound of 0 by default)\n",
    "    x1 = m.addVar(vtype=GRB.CONTINUOUS, name=\"x1\", lb=0)\n",
    "    x2 = m.addVar(vtype=GRB.CONTINUOUS, name=\"x2\", lb=0)\n",
    "    x3 = m.addVar(vtype=GRB.CONTINUOUS, name=\"x3\", lb=0)\n",
    "    x4 = m.addVar(vtype=GRB.CONTINUOUS, name=\"x4\", lb=0)\n",
    "\n",
    "\n",
    "    # Integrate new variables\n",
    "    m.update()\n",
    "\n",
    "    # Set objective\n",
    "    # m.setObjective\n",
    "    m.setObjective(60*x1 + 40*x2 + 130*x3 + 90*x4 - 40*(x1 + x2 + x3 + x4), GRB.MAXIMIZE)\n",
    "\n",
    "    # Add constraint: \n",
    "    m.addConstr(x1 + x3 == x2 + x4, \"c1\")\n",
    "    m.addConstr(x1 + x2 + x3 + x4 <= 20, \"c2\")\n",
    "    m.addConstr(x3 + 0.75*x4 <= 8, \"c3\")\n",
    "\n",
    "    # Optimize (model is updated when we optimize)\n",
    "    m.optimize()\n",
    "\n",
    "    #print model status (2 is optimal)\n",
    "    #https://www.gurobi.com/documentation/6.5/refman/optimization_status_codes.html\n",
    "    print 'Model status:', m.status\n",
    "\n",
    "    #print decision variables\n",
    "    for v in m.getVars():\n",
    "        print v.varName, v.x\n",
    "\n",
    "    #print objective function value\n",
    "    print 'Obj:', m.objVal\n",
    "\n",
    "except GurobiError:\n",
    "    print 'Error reported'\n",
    "\n"
   ]
  },
  {
   "cell_type": "code",
   "execution_count": null,
   "metadata": {},
   "outputs": [],
   "source": [
    "\n",
    "\n"
   ]
  }
 ],
 "metadata": {
  "kernelspec": {
   "display_name": "Python 3",
   "language": "python",
   "name": "python3"
  },
  "language_info": {
   "codemirror_mode": {
    "name": "ipython",
    "version": 3
   },
   "file_extension": ".py",
   "mimetype": "text/x-python",
   "name": "python",
   "nbconvert_exporter": "python",
   "pygments_lexer": "ipython3",
   "version": "3.7.3"
  }
 },
 "nbformat": 4,
 "nbformat_minor": 2
}
