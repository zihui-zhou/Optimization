{
 "cells": [
  {
   "cell_type": "code",
   "execution_count": 3,
   "metadata": {},
   "outputs": [
    {
     "name": "stdout",
     "output_type": "stream",
     "text": [
      "Optimize a model with 3 rows, 3 columns and 7 nonzeros\n",
      "Coefficient statistics:\n",
      "  Matrix range     [1e+00, 2e+02]\n",
      "  Objective range  [8e+00, 1e+02]\n",
      "  Bounds range     [0e+00, 0e+00]\n",
      "  RHS range        [1e+03, 4e+04]\n",
      "Presolve time: 0.03s\n",
      "Presolved: 3 rows, 3 columns, 7 nonzeros\n",
      "\n",
      "Iteration    Objective       Primal Inf.    Dual Inf.      Time\n",
      "       0    2.9000000e+31   4.437500e+30   2.900000e+01      0s\n",
      "       3    1.1800000e+05   0.000000e+00   0.000000e+00      0s\n",
      "\n",
      "Solved in 3 iterations and 0.04 seconds\n",
      "Optimal objective  1.180000000e+05\n",
      "Model status: 2\n",
      "x1 10000.0\n",
      "x2 5000.0\n",
      "x3 270.0\n",
      "Obj: 118000.0\n"
     ]
    }
   ],
   "source": [
    "from gurobipy import *\n",
    "\n",
    "try:\n",
    "\n",
    "    # Create a new model\n",
    "    m = Model(\"HW1-2\")\n",
    "\n",
    "    # Create variables (lowerbound of 0 by default)\n",
    "    x1 = m.addVar(vtype=GRB.CONTINUOUS, name=\"x1\", lb=0)\n",
    "    x2 = m.addVar(vtype=GRB.CONTINUOUS, name=\"x2\", lb=0)\n",
    "    x3 = m.addVar(vtype=GRB.CONTINUOUS, name=\"x3\", lb=0)\n",
    "\n",
    "\n",
    "    # Integrate new variables\n",
    "    m.update()\n",
    "\n",
    "    # Set objective\n",
    "    # m.setObjective\n",
    "    m.setObjective((3*x1 + 5*x2)*5 - 3*(x1 + 2*x2) - 2*(2*x1+3*x2) - 100*x3, GRB.MAXIMIZE)\n",
    "\n",
    "    # Add constraint: \n",
    "    m.addConstr(x1 + 2*x2 <= 20000, \"c0\")\n",
    "    m.addConstr(2*x1 + 3*x2 <= 35000, \"c1\")\n",
    "    m.addConstr(3*x1 + 5*x2 == 1000 + 200*x3, \"c2\")\n",
    "\n",
    "    # Optimize (model is updated when we optimize)\n",
    "    m.optimize()\n",
    "\n",
    "    #print model status (2 is optimal)\n",
    "    #https://www.gurobi.com/documentation/6.5/refman/optimization_status_codes.html\n",
    "    print('Model status:', m.status)\n",
    "\n",
    "    #print decision variables\n",
    "    for v in m.getVars():\n",
    "        print(v.varName, v.x)\n",
    "\n",
    "    #print objective function value\n",
    "    print('Obj:', m.objVal)\n",
    "\n",
    "except GurobiError:\n",
    "    print('Error reported')\n",
    "\n"
   ]
  },
  {
   "cell_type": "code",
   "execution_count": null,
   "metadata": {},
   "outputs": [],
   "source": []
  }
 ],
 "metadata": {
  "kernelspec": {
   "display_name": "Python 3",
   "language": "python",
   "name": "python3"
  },
  "language_info": {
   "codemirror_mode": {
    "name": "ipython",
    "version": 3
   },
   "file_extension": ".py",
   "mimetype": "text/x-python",
   "name": "python",
   "nbconvert_exporter": "python",
   "pygments_lexer": "ipython3",
   "version": "3.7.3"
  }
 },
 "nbformat": 4,
 "nbformat_minor": 2
}
