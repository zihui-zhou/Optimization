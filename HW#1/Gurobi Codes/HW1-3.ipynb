{
 "cells": [
  {
   "cell_type": "code",
   "execution_count": null,
   "metadata": {},
   "outputs": [],
   "source": [
    "from gurobipy import *\n",
    "\n",
    "try:\n",
    "    # Create new model\n",
    "    m = Model(\"HW1-3\")\n",
    "    \n",
    "    # Create variables (lowerbound of 0 by default)\n",
    "    x1 = m.addVar(vtype=GRB.CONTINUOUS, name=\"x1\", lb=2)\n",
    "    x2 = m.addVar(vtype=GRB.CONTINUOUS, name=\"x2\", lb=0)\n",
    "    x3 = m.addVar(vtype=GRB.CONTINUOUS, name=\"x3\", lb=0)\n",
    "    \n",
    "    # Update the model\n",
    "    m.update()\n",
    "    \n",
    "    # Set Objective\n",
    "    m.setObjective(3*x1 - 2*x2, GRB.MINIMIZE)\n",
    "    \n",
    "    #Add constraints\n",
    "    m.addConstr(3*x1 + x2 <= 12)\n",
    "    m.addConstr(3*x1 - 2*x2 -x3 == 12)\n",
    "    \n",
    "    # Optimize (model is updated when we optimize)\n",
    "    m.optimize()\n",
    "\n",
    "    #print model status (2 is optimal)\n",
    "    #https://www.gurobi.com/documentation/6.5/refman/optimization_status_codes.html\n",
    "    print 'Model status:', m.status\n",
    "\n",
    "    #print decision variables\n",
    "    for v in m.getVars():\n",
    "        print v.varName, v.x\n",
    "\n",
    "    #print objective function value\n",
    "    print 'Obj:', m.objVal\n",
    "\n",
    "except GurobiError:\n",
    "    print 'Error reported'"
   ]
  }
 ],
 "metadata": {
  "kernelspec": {
   "display_name": "Python 3",
   "language": "python",
   "name": "python3"
  },
  "language_info": {
   "codemirror_mode": {
    "name": "ipython",
    "version": 3
   },
   "file_extension": ".py",
   "mimetype": "text/x-python",
   "name": "python",
   "nbconvert_exporter": "python",
   "pygments_lexer": "ipython3",
   "version": "3.7.3"
  }
 },
 "nbformat": 4,
 "nbformat_minor": 2
}
