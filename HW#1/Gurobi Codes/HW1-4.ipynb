{
 "cells": [
  {
   "cell_type": "code",
   "execution_count": 2,
   "metadata": {},
   "outputs": [
    {
     "name": "stdout",
     "output_type": "stream",
     "text": [
      "Academic license - for non-commercial use only\n",
      "Optimize a model with 7 rows, 11 columns and 31 nonzeros\n",
      "Coefficient statistics:\n",
      "  Matrix range     [1e-01, 3e+00]\n",
      "  Objective range  [1e+00, 1e+01]\n",
      "  Bounds range     [0e+00, 0e+00]\n",
      "  RHS range        [6e+02, 2e+03]\n",
      "Presolve removed 1 rows and 1 columns\n",
      "Presolve time: 0.02s\n",
      "Presolved: 6 rows, 10 columns, 33 nonzeros\n",
      "\n",
      "Iteration    Objective       Primal Inf.    Dual Inf.      Time\n",
      "       0    1.5320000e+32   4.950000e+30   1.532000e+02      0s\n",
      "       7    2.1475000e+04   0.000000e+00   0.000000e+00      0s\n",
      "\n",
      "Solved in 7 iterations and 0.04 seconds\n",
      "Optimal objective  2.147500000e+04\n",
      "Model status: 2\n",
      "m1 1625.0\n",
      "m2 0.0\n",
      "m3 0.0\n",
      "g6 300.0\n",
      "g8 400.0\n",
      "g10 1300.0\n",
      "h6 187.5\n",
      "h8 412.5\n",
      "h10 0.0\n",
      "x6 0.0\n",
      "x8 0.0\n",
      "Obj: 21475.0\n"
     ]
    }
   ],
   "source": [
    "from gurobipy import *\n",
    "\n",
    "# Create new model\n",
    "m = Model(\"HW1-4\")\n",
    "\n",
    "# Create variables (lowerbound of 0 by default)\n",
    "m1 = m.addVar(vtype=GRB.CONTINUOUS, name=\"m1\", lb=0)\n",
    "m2 = m.addVar(vtype=GRB.CONTINUOUS, name=\"m2\", lb=0)\n",
    "m3 = m.addVar(vtype=GRB.CONTINUOUS, name=\"m3\", lb=0)\n",
    "g6 = m.addVar(vtype=GRB.CONTINUOUS, name=\"g6\", lb=0)\n",
    "g8 = m.addVar(vtype=GRB.CONTINUOUS, name=\"g8\", lb=0)\n",
    "g10 = m.addVar(vtype=GRB.CONTINUOUS, name=\"g10\", lb=0)\n",
    "h6 = m.addVar(vtype=GRB.CONTINUOUS, name=\"h6\", lb=0)\n",
    "h8 = m.addVar(vtype=GRB.CONTINUOUS, name=\"h8\", lb=0)\n",
    "h10 = m.addVar(vtype=GRB.CONTINUOUS, name=\"h10\", lb=0)\n",
    "x6 = m.addVar(vtype=GRB.CONTINUOUS, name=\"x6\", lb=0)\n",
    "x8 = m.addVar(vtype=GRB.CONTINUOUS, name=\"x8\", lb=0)\n",
    "\n",
    "# Update the model\n",
    "m.update()\n",
    "\n",
    "# Set Objective\n",
    "m.setObjective(12*(g6 + g8 + g10) + 5*(h6 + h8 + h10) - (3.4*m1 + 3*m2 + 2.6*m3 + x6 + 1.5*x8), GRB.MAXIMIZE)\n",
    "\n",
    "#Add constraints\n",
    "m.addConstr(g6 + h6 == 0.3*m1 + 0.4*m2 + 0.1*m3 - x6)\n",
    "m.addConstr(g8 + h8 == 0.5*m1 + 0.2*m2 + 0.3*m3 - x8 + x6)\n",
    "m.addConstr(g10 + h10 == 0.8*m1 + 0.4*m2 + 0.2*m3 + x8)\n",
    "m.addConstr(g6 + g8 + g10 <= 2000)\n",
    "m.addConstr(h6 + h8 + h10 <= 600)\n",
    "m.addConstr((6*g6 + 8*g8 + 10*g10) >= 9*(g6 + g8 + g10)) \n",
    "m.addConstr((6*h6 + 8*h8 + 10*h10) >= 7*(h6 + h8 + h10)) \n",
    "\n",
    "\n",
    "# Optimize (model is updated when we optimize)\n",
    "m.optimize()\n",
    "\n",
    "#print model status (2 is optimal)\n",
    "#https://www.gurobi.com/documentation/6.5/refman/optimization_status_codes.html\n",
    "print ('Model status:', m.status)\n",
    "\n",
    "#print decision variables\n",
    "for v in m.getVars():\n",
    "    print (v.varName, v.x)\n",
    "\n",
    "#print objective function value\n",
    "print ('Obj:', m.objVal)\n",
    "\n"
   ]
  },
  {
   "cell_type": "code",
   "execution_count": null,
   "metadata": {},
   "outputs": [],
   "source": []
  }
 ],
 "metadata": {
  "kernelspec": {
   "display_name": "Python 3",
   "language": "python",
   "name": "python3"
  },
  "language_info": {
   "codemirror_mode": {
    "name": "ipython",
    "version": 3
   },
   "file_extension": ".py",
   "mimetype": "text/x-python",
   "name": "python",
   "nbconvert_exporter": "python",
   "pygments_lexer": "ipython3",
   "version": "3.7.3"
  }
 },
 "nbformat": 4,
 "nbformat_minor": 2
}
