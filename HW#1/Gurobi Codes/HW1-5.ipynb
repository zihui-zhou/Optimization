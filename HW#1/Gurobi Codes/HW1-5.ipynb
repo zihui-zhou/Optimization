{
 "cells": [
  {
   "cell_type": "code",
   "execution_count": 1,
   "metadata": {},
   "outputs": [
    {
     "name": "stdout",
     "output_type": "stream",
     "text": [
      "Academic license - for non-commercial use only\n",
      "Optimize a model with 1 rows, 10 columns and 10 nonzeros\n",
      "Coefficient statistics:\n",
      "  Matrix range     [3e+01, 7e+01]\n",
      "  Objective range  [4e+01, 7e+01]\n",
      "  Bounds range     [1e+02, 1e+02]\n",
      "  RHS range        [3e+04, 3e+04]\n",
      "Presolve time: 0.02s\n",
      "Presolved: 1 rows, 10 columns, 10 nonzeros\n",
      "\n",
      "Iteration    Objective       Primal Inf.    Dual Inf.      Time\n",
      "       0    5.3100000e+04   4.687500e+02   0.000000e+00      0s\n",
      "       1    2.0893709e+04   0.000000e+00   0.000000e+00      0s\n",
      "\n",
      "Solved in 1 iterations and 0.04 seconds\n",
      "Optimal objective  2.089370881e+04\n",
      "Model status: 2\n",
      "x1 0.0\n",
      "x2 0.0\n",
      "x3 100.0\n",
      "x4 100.0\n",
      "x5 0.0\n",
      "x6 63.750748951467926\n",
      "x7 0.0\n",
      "x8 100.0\n",
      "x9 100.0\n",
      "x10 100.0\n",
      "Obj: 20893.708807669263\n"
     ]
    }
   ],
   "source": [
    "from gurobipy import *\n",
    "\n",
    "# Create new model\n",
    "m = Model(\"HW1-5\")\n",
    "\n",
    "# Create variables (lowerbound of 0 by default)\n",
    "x1 = m.addVar(vtype=GRB.CONTINUOUS, name=\"x1\", lb=0, ub=100)\n",
    "x2 = m.addVar(vtype=GRB.CONTINUOUS, name=\"x2\", lb=0, ub=100)\n",
    "x3 = m.addVar(vtype=GRB.CONTINUOUS, name=\"x3\", lb=0, ub=100)\n",
    "x4 = m.addVar(vtype=GRB.CONTINUOUS, name=\"x4\", lb=0, ub=100)\n",
    "x5 = m.addVar(vtype=GRB.CONTINUOUS, name=\"x5\", lb=0, ub=100)\n",
    "x6 = m.addVar(vtype=GRB.CONTINUOUS, name=\"x6\", lb=0, ub=100)\n",
    "x7 = m.addVar(vtype=GRB.CONTINUOUS, name=\"x7\", lb=0, ub=100)\n",
    "x8 = m.addVar(vtype=GRB.CONTINUOUS, name=\"x8\", lb=0, ub=100)\n",
    "x9 = m.addVar(vtype=GRB.CONTINUOUS, name=\"x9\", lb=0, ub=100)\n",
    "x10 = m.addVar(vtype=GRB.CONTINUOUS, name=\"x10\", lb=0, ub=100)\n",
    "\n",
    "\n",
    "# Update the model\n",
    "m.update()\n",
    "\n",
    "# Set Objective\n",
    "m.setObjective((100-x1)*36 + (100-x2)*39 + (100-x3)*42 + (100-x4)*45 + (100-x5)*51 + (100-x6)*55 + (100-x7)*63 + (100-x8)*64 + (100-x9)*66 + (100-x10)*70, GRB.MAXIMIZE)\n",
    "\n",
    "#Add constraints\n",
    "m.addConstr(30*x1 + 34*x2 + 43*x3 + 47*x4 + 49*x5 + 53*x6 + 60*x7 + 62*x8 + 64*x9 + 66*x10 - 0.3*(10*x1 + 9*x2 + 13*x3 + 12*x4 + 9*x5 + 8*x6 + 10*x7 + 7*x8 + 4*x9 + 1*x10) - 0.01*(30*x1 + 34*x2 + 43*x3 + 47*x4 + 49*x5 + 53*x6 + 60*x7 + 62*x8 + 64*x9 + 66*x10) >= 30000)\n",
    "\n",
    "\n",
    "# Optimize (model is updated when we optimize)\n",
    "m.optimize()\n",
    "\n",
    "#print model status (2 is optimal)\n",
    "#https://www.gurobi.com/documentation/6.5/refman/optimization_status_codes.html\n",
    "print ('Model status:', m.status)\n",
    "\n",
    "#print decision variables\n",
    "for v in m.getVars():\n",
    "    print (v.varName, v.x)\n",
    "\n",
    "#print objective function value\n",
    "print ('Obj:', m.objVal)\n",
    "\n",
    "\n"
   ]
  },
  {
   "cell_type": "code",
   "execution_count": 5,
   "metadata": {},
   "outputs": [
    {
     "name": "stdout",
     "output_type": "stream",
     "text": [
      "Optimize a model with 3 rows, 2 columns and 6 nonzeros\n",
      "Coefficient statistics:\n",
      "  Matrix range     [2e-01, 3e+00]\n",
      "  Objective range  [2e+00, 3e+00]\n",
      "  Bounds range     [0e+00, 0e+00]\n",
      "  RHS range        [4e+00, 2e+01]\n",
      "Presolve time: 0.02s\n",
      "\n",
      "Solved in 0 iterations and 0.02 seconds\n",
      "Infeasible or unbounded model\n",
      "Model status: 4\n"
     ]
    },
    {
     "ename": "AttributeError",
     "evalue": "b\"Unable to retrieve attribute 'x'\"",
     "output_type": "error",
     "traceback": [
      "\u001b[0;31m---------------------------------------------------------------------------\u001b[0m",
      "\u001b[0;31mAttributeError\u001b[0m                            Traceback (most recent call last)",
      "\u001b[0;32m<ipython-input-5-e0f6e98d4f57>\u001b[0m in \u001b[0;36m<module>\u001b[0;34m\u001b[0m\n\u001b[1;32m     31\u001b[0m \u001b[0;31m#print decision variables\u001b[0m\u001b[0;34m\u001b[0m\u001b[0;34m\u001b[0m\u001b[0;34m\u001b[0m\u001b[0m\n\u001b[1;32m     32\u001b[0m \u001b[0;32mfor\u001b[0m \u001b[0mv\u001b[0m \u001b[0;32min\u001b[0m \u001b[0mm\u001b[0m\u001b[0;34m.\u001b[0m\u001b[0mgetVars\u001b[0m\u001b[0;34m(\u001b[0m\u001b[0;34m)\u001b[0m\u001b[0;34m:\u001b[0m\u001b[0;34m\u001b[0m\u001b[0;34m\u001b[0m\u001b[0m\n\u001b[0;32m---> 33\u001b[0;31m     \u001b[0mprint\u001b[0m \u001b[0;34m(\u001b[0m\u001b[0mv\u001b[0m\u001b[0;34m.\u001b[0m\u001b[0mvarName\u001b[0m\u001b[0;34m,\u001b[0m \u001b[0mv\u001b[0m\u001b[0;34m.\u001b[0m\u001b[0mx\u001b[0m\u001b[0;34m)\u001b[0m\u001b[0;34m\u001b[0m\u001b[0;34m\u001b[0m\u001b[0m\n\u001b[0m\u001b[1;32m     34\u001b[0m \u001b[0;34m\u001b[0m\u001b[0m\n\u001b[1;32m     35\u001b[0m \u001b[0;31m#print objective function value\u001b[0m\u001b[0;34m\u001b[0m\u001b[0;34m\u001b[0m\u001b[0;34m\u001b[0m\u001b[0m\n",
      "\u001b[0;32mvar.pxi\u001b[0m in \u001b[0;36mgurobipy.Var.__getattr__\u001b[0;34m()\u001b[0m\n",
      "\u001b[0;32mvar.pxi\u001b[0m in \u001b[0;36mgurobipy.Var.getAttr\u001b[0;34m()\u001b[0m\n",
      "\u001b[0;31mAttributeError\u001b[0m: b\"Unable to retrieve attribute 'x'\""
     ]
    }
   ],
   "source": [
    "from gurobipy import *\n",
    "\n",
    "# Create new model\n",
    "m = Model(\"HW2\")\n",
    "\n",
    "# Create variables (lowerbound of 0 by default)\n",
    "x1 = m.addVar(vtype=GRB.CONTINUOUS, name=\"x1\", lb=0)\n",
    "x2 = m.addVar(vtype=GRB.CONTINUOUS, name=\"x2\", lb=0)\n",
    "\n",
    "\n",
    "\n",
    "# Update the model\n",
    "m.update()\n",
    "\n",
    "# Set Objective\n",
    "m.setObjective(2*x1 + 3*x2, GRB.MAXIMIZE)\n",
    "\n",
    "#Add constraints\n",
    "m.addConstr(0.5*x1 + 0.25*x2 <= 4)\n",
    "m.addConstr(x1 + 3*x2 >= 20)\n",
    "m.addConstr(x1 + x2 == 4)\n",
    "\n",
    "\n",
    "# Optimize (model is updated when we optimize)\n",
    "m.optimize()\n",
    "\n",
    "#print model status (2 is optimal)\n",
    "#https://www.gurobi.com/documentation/6.5/refman/optimization_status_codes.html\n",
    "print ('Model status:', m.status)\n",
    "\n",
    "#print decision variables\n",
    "for v in m.getVars():\n",
    "    print (v.varName, v.x)\n",
    "\n",
    "#print objective function value\n",
    "print ('Obj:', m.objVal)\n",
    "\n",
    "\n",
    "\n"
   ]
  },
  {
   "cell_type": "code",
   "execution_count": null,
   "metadata": {},
   "outputs": [],
   "source": []
  }
 ],
 "metadata": {
  "kernelspec": {
   "display_name": "Python 3",
   "language": "python",
   "name": "python3"
  },
  "language_info": {
   "codemirror_mode": {
    "name": "ipython",
    "version": 3
   },
   "file_extension": ".py",
   "mimetype": "text/x-python",
   "name": "python",
   "nbconvert_exporter": "python",
   "pygments_lexer": "ipython3",
   "version": "3.7.3"
  }
 },
 "nbformat": 4,
 "nbformat_minor": 2
}
