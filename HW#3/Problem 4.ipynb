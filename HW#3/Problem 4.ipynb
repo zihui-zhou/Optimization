{
 "cells": [
  {
   "cell_type": "code",
   "execution_count": 1,
   "metadata": {},
   "outputs": [
    {
     "name": "stdout",
     "output_type": "stream",
     "text": [
      "  Bounds range     [0e+00, 0e+00]\n",
      "  RHS range        [1e+00, 1e+00]\n",
      "Presolve removed 1 rows and 1 columns\n",
      "Presolve time: 0.01s\n",
      "Presolved: 2 rows, 2 columns, 4 nonzeros\n",
      "\n",
      "Iteration    Objective       Primal Inf.    Dual Inf.      Time\n",
      "       0    1.3333333e-03   4.333333e-03   0.000000e+00      0s\n",
      "       1   -0.0000000e+00   0.000000e+00   0.000000e+00      0s\n",
      "\n",
      "Solved in 1 iterations and 0.02 seconds\n",
      "Optimal objective -0.000000000e+00\n",
      "Model status: 2\n",
      "y2 0.3333333333333333\n",
      "y3 0.3333333333333333\n",
      "v 0.0\n",
      "Obj: -0.0\n"
     ]
    }
   ],
   "source": [
    "# For the column player\n",
    "from gurobipy import *\n",
    "\n",
    "# Create new model\n",
    "m = Model(\"problem4-1\")\n",
    "\n",
    "# Create variables (lowerbound of 0 by default)\n",
    "y2 = m.addVar(vtype=GRB.CONTINUOUS, name=\"y2\", lb=0)\n",
    "y3 = m.addVar(vtype=GRB.CONTINUOUS, name=\"y3\", lb=0)\n",
    "v = m.addVar(vtype=GRB.CONTINUOUS, name=\"v\", lb=0)\n",
    "\n",
    "# Update the model\n",
    "m.update()\n",
    "\n",
    "# Set Objective\n",
    "m.setObjective(v, GRB.MAXIMIZE)\n",
    "\n",
    "#Add constraints\n",
    "m.addConstr((y2-y3) >= v)\n",
    "m.addConstr((y3-(1-y2-y3)) >= v)\n",
    "m.addConstr(((1-y2-y3)-y2) >= v) \n",
    "\n",
    "# Optimize (model is updated when we optimize)\n",
    "m.optimize()\n",
    "\n",
    "#print model status (2 is optimal)\n",
    "#https://www.gurobi.com/documentation/6.5/refman/optimization_status_codes.html\n",
    "print ('Model status:', m.status)\n",
    "\n",
    "#print decision variables\n",
    "for v in m.getVars():\n",
    "    print (v.varName, v.x)\n",
    "\n",
    "#print objective function value\n",
    "print ('Obj:', m.objVal)"
   ]
  },
  {
   "cell_type": "code",
   "execution_count": 2,
   "metadata": {},
   "outputs": [
    {
     "name": "stdout",
     "output_type": "stream",
     "text": [
      "Optimize a model with 3 rows, 3 columns and 9 nonzeros\n",
      "Coefficient statistics:\n",
      "  Matrix range     [1e+00, 2e+00]\n",
      "  Objective range  [1e+00, 1e+00]\n",
      "  Bounds range     [0e+00, 0e+00]\n",
      "  RHS range        [1e+00, 1e+00]\n",
      "Presolve time: 0.01s\n",
      "Presolved: 3 rows, 3 columns, 9 nonzeros\n",
      "\n",
      "Iteration    Objective       Primal Inf.    Dual Inf.      Time\n",
      "       0    0.0000000e+00   5.000000e-01   0.000000e+00      0s\n",
      "       2    0.0000000e+00   0.000000e+00   0.000000e+00      0s\n",
      "\n",
      "Solved in 2 iterations and 0.02 seconds\n",
      "Optimal objective  0.000000000e+00\n",
      "Model status: 2\n",
      "x2 0.3333333333333333\n",
      "x3 0.33333333333333337\n",
      "u 0.0\n",
      "Obj: 0.0\n"
     ]
    }
   ],
   "source": [
    "# For the row player\n",
    "from gurobipy import *\n",
    "\n",
    "# Create new model\n",
    "m = Model(\"problem4-2\")\n",
    "\n",
    "# Create variables (lowerbound of 0 by default)\n",
    "x2 = m.addVar(vtype=GRB.CONTINUOUS, name=\"x2\", lb=0)\n",
    "x3 = m.addVar(vtype=GRB.CONTINUOUS, name=\"x3\", lb=0)\n",
    "u = m.addVar(vtype=GRB.CONTINUOUS, name=\"u\", lb=0)\n",
    "\n",
    "# Update the model\n",
    "m.update()\n",
    "\n",
    "# Set Objective\n",
    "m.setObjective(u, GRB.MINIMIZE)\n",
    "\n",
    "#Add constraints\n",
    "m.addConstr(-x2+x3 <= u)\n",
    "m.addConstr((1-x2-x3)-x3 <= u)\n",
    "m.addConstr(-(1-x2-x3)+x2 <= u)\n",
    "\n",
    "# Optimize (model is updated when we optimize)\n",
    "m.optimize()\n",
    "\n",
    "#print model status (2 is optimal)\n",
    "#https://www.gurobi.com/documentation/6.5/refman/optimization_status_codes.html\n",
    "print ('Model status:', m.status)\n",
    "\n",
    "#print decision variables\n",
    "for v in m.getVars():\n",
    "    print (v.varName, v.x)\n",
    "\n",
    "#print objective function value\n",
    "print ('Obj:', m.objVal)"
   ]
  },
  {
   "cell_type": "code",
   "execution_count": null,
   "metadata": {},
   "outputs": [],
   "source": []
  }
 ],
 "metadata": {
  "kernelspec": {
   "display_name": "Python 3",
   "language": "python",
   "name": "python3"
  },
  "language_info": {
   "codemirror_mode": {
    "name": "ipython",
    "version": 3
   },
   "file_extension": ".py",
   "mimetype": "text/x-python",
   "name": "python",
   "nbconvert_exporter": "python",
   "pygments_lexer": "ipython3",
   "version": "3.7.3"
  }
 },
 "nbformat": 4,
 "nbformat_minor": 2
}
