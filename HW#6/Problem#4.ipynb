{
 "cells": [
  {
   "cell_type": "code",
   "execution_count": 1,
   "metadata": {},
   "outputs": [],
   "source": [
    "import pandas as pd\n",
    "import numpy as np"
   ]
  },
  {
   "cell_type": "code",
   "execution_count": 2,
   "metadata": {},
   "outputs": [],
   "source": [
    "filename = 'Assignment6_files/coins.dat'\n",
    "infile = open(filename, 'r')"
   ]
  },
  {
   "cell_type": "code",
   "execution_count": 3,
   "metadata": {},
   "outputs": [
    {
     "name": "stdout",
     "output_type": "stream",
     "text": [
      "15\n",
      "\n",
      "40\n",
      "\n",
      "1 3 5 8 10 11 14 16 20 23 25 28 30 34 38 \n"
     ]
    }
   ],
   "source": [
    "with open(filename, 'r') as infile:\n",
    "    for line in infile:\n",
    "        print(line)"
   ]
  },
  {
   "cell_type": "markdown",
   "metadata": {},
   "source": [
    "#### Therefore, there are 15 different types of coins, with values 1,3,5,8,10,11,14,16,20,23,25,28,30,34,38. And, the wallet can fit at most 40 coins. The question becomes: Use Dynamic Programming to find the smallest value (in whole dollars) that cannot be created and fit into the wallet. "
   ]
  },
  {
   "cell_type": "code",
   "execution_count": 4,
   "metadata": {},
   "outputs": [],
   "source": [
    "m = 15\n",
    "k = 40\n",
    "values = np.array([1,3,5,8,10,11,14,16,20,23,25,28,30,34,38])"
   ]
  },
  {
   "cell_type": "code",
   "execution_count": 5,
   "metadata": {},
   "outputs": [],
   "source": [
    "def max_create(num_coins,capacity,coin_values):\n",
    "    columns = capacity*max(coin_values)\n",
    "    table = np.zeros((capacity+1,columns))\n",
    "    \n",
    "    # f(m,n)=0 for m=0 (when we use 0 coins)\n",
    "    for n in range(columns): \n",
    "        table[0,n] = 0\n",
    "        \n",
    "    # f(m,n)=1 for m=1, while the value in the coin value sets\n",
    "    for k in range(num_coins): \n",
    "        table[1,coin_values[k]]=1\n",
    "    \n",
    "    for n in range(columns):\n",
    "        for m in range(1,capacity+1):\n",
    "            table[m,n] = max(table[m-1,n],table[m,n])\n",
    "            for value in range(num_coins):\n",
    "                try:\n",
    "                    v = table[m-1, n-coin_values[value]]\n",
    "                except:\n",
    "                    v = 0\n",
    "                table[m,n] = max(v,table[m,n])\n",
    "    return table"
   ]
  },
  {
   "cell_type": "code",
   "execution_count": 6,
   "metadata": {},
   "outputs": [],
   "source": [
    "def find_value(dataframe):\n",
    "    last_row = df.iloc[-1]\n",
    "    zeros = []\n",
    "    count = 0\n",
    "    for i in last_row:\n",
    "        if i == 0:\n",
    "            zeros.append(count)\n",
    "        count += 1\n",
    "    print('The smallest value that cannot be created and fit into the wallet is:', zeros[1])"
   ]
  },
  {
   "cell_type": "code",
   "execution_count": 7,
   "metadata": {},
   "outputs": [
    {
     "name": "stdout",
     "output_type": "stream",
     "text": [
      "The smallest value that cannot be created and fit into the wallet is: 1509\n"
     ]
    }
   ],
   "source": [
    "result = max_create(m,k,values)\n",
    "df = pd.DataFrame(result, columns = np.arange(k*max(values)) )\n",
    "\n",
    "find_value(df)"
   ]
  },
  {
   "cell_type": "code",
   "execution_count": null,
   "metadata": {},
   "outputs": [],
   "source": []
  }
 ],
 "metadata": {
  "kernelspec": {
   "display_name": "Python 3",
   "language": "python",
   "name": "python3"
  },
  "language_info": {
   "codemirror_mode": {
    "name": "ipython",
    "version": 3
   },
   "file_extension": ".py",
   "mimetype": "text/x-python",
   "name": "python",
   "nbconvert_exporter": "python",
   "pygments_lexer": "ipython3",
   "version": "3.7.3"
  }
 },
 "nbformat": 4,
 "nbformat_minor": 2
}
